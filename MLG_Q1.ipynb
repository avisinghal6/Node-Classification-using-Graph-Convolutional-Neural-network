{
  "nbformat": 4,
  "nbformat_minor": 0,
  "metadata": {
    "colab": {
      "provenance": [],
      "authorship_tag": "ABX9TyPun4snZCg3lrMQFTXqaS8h",
      "include_colab_link": true
    },
    "kernelspec": {
      "name": "python3",
      "display_name": "Python 3"
    },
    "language_info": {
      "name": "python"
    },
    "gpuClass": "standard",
    "widgets": {
      "application/vnd.jupyter.widget-state+json": {
        "b4d225b8ffc64a99a8393d695f3b1ffc": {
          "model_module": "@jupyter-widgets/controls",
          "model_name": "HBoxModel",
          "model_module_version": "1.5.0",
          "state": {
            "_dom_classes": [],
            "_model_module": "@jupyter-widgets/controls",
            "_model_module_version": "1.5.0",
            "_model_name": "HBoxModel",
            "_view_count": null,
            "_view_module": "@jupyter-widgets/controls",
            "_view_module_version": "1.5.0",
            "_view_name": "HBoxView",
            "box_style": "",
            "children": [
              "IPY_MODEL_f939df5caa4847ccba77a867683189dd",
              "IPY_MODEL_9cca4e646c054dc18c0604153c411621",
              "IPY_MODEL_00bad0e576d548a69a956c087e52a4a6"
            ],
            "layout": "IPY_MODEL_a3a242f94d2e4b86acd74a6f5a12211f"
          }
        },
        "f939df5caa4847ccba77a867683189dd": {
          "model_module": "@jupyter-widgets/controls",
          "model_name": "HTMLModel",
          "model_module_version": "1.5.0",
          "state": {
            "_dom_classes": [],
            "_model_module": "@jupyter-widgets/controls",
            "_model_module_version": "1.5.0",
            "_model_name": "HTMLModel",
            "_view_count": null,
            "_view_module": "@jupyter-widgets/controls",
            "_view_module_version": "1.5.0",
            "_view_name": "HTMLView",
            "description": "",
            "description_tooltip": null,
            "layout": "IPY_MODEL_e15542931b8c48b0a83e6fcb0fd32a51",
            "placeholder": "​",
            "style": "IPY_MODEL_f05b2aaf99ee4d2cb670d122cdd3bf03",
            "value": "Computing transition probabilities: 100%"
          }
        },
        "9cca4e646c054dc18c0604153c411621": {
          "model_module": "@jupyter-widgets/controls",
          "model_name": "FloatProgressModel",
          "model_module_version": "1.5.0",
          "state": {
            "_dom_classes": [],
            "_model_module": "@jupyter-widgets/controls",
            "_model_module_version": "1.5.0",
            "_model_name": "FloatProgressModel",
            "_view_count": null,
            "_view_module": "@jupyter-widgets/controls",
            "_view_module_version": "1.5.0",
            "_view_name": "ProgressView",
            "bar_style": "success",
            "description": "",
            "description_tooltip": null,
            "layout": "IPY_MODEL_787e7c3f663d4369a035e1a255cf5995",
            "max": 2708,
            "min": 0,
            "orientation": "horizontal",
            "style": "IPY_MODEL_eb2e90ee96914f57b960bcdb52da6df8",
            "value": 2708
          }
        },
        "00bad0e576d548a69a956c087e52a4a6": {
          "model_module": "@jupyter-widgets/controls",
          "model_name": "HTMLModel",
          "model_module_version": "1.5.0",
          "state": {
            "_dom_classes": [],
            "_model_module": "@jupyter-widgets/controls",
            "_model_module_version": "1.5.0",
            "_model_name": "HTMLModel",
            "_view_count": null,
            "_view_module": "@jupyter-widgets/controls",
            "_view_module_version": "1.5.0",
            "_view_name": "HTMLView",
            "description": "",
            "description_tooltip": null,
            "layout": "IPY_MODEL_50e8edcc0b7b45208c055d9800248821",
            "placeholder": "​",
            "style": "IPY_MODEL_86435cb6f5cf4bc0935ca8c7150da182",
            "value": " 2708/2708 [00:01&lt;00:00, 2645.21it/s]"
          }
        },
        "a3a242f94d2e4b86acd74a6f5a12211f": {
          "model_module": "@jupyter-widgets/base",
          "model_name": "LayoutModel",
          "model_module_version": "1.2.0",
          "state": {
            "_model_module": "@jupyter-widgets/base",
            "_model_module_version": "1.2.0",
            "_model_name": "LayoutModel",
            "_view_count": null,
            "_view_module": "@jupyter-widgets/base",
            "_view_module_version": "1.2.0",
            "_view_name": "LayoutView",
            "align_content": null,
            "align_items": null,
            "align_self": null,
            "border": null,
            "bottom": null,
            "display": null,
            "flex": null,
            "flex_flow": null,
            "grid_area": null,
            "grid_auto_columns": null,
            "grid_auto_flow": null,
            "grid_auto_rows": null,
            "grid_column": null,
            "grid_gap": null,
            "grid_row": null,
            "grid_template_areas": null,
            "grid_template_columns": null,
            "grid_template_rows": null,
            "height": null,
            "justify_content": null,
            "justify_items": null,
            "left": null,
            "margin": null,
            "max_height": null,
            "max_width": null,
            "min_height": null,
            "min_width": null,
            "object_fit": null,
            "object_position": null,
            "order": null,
            "overflow": null,
            "overflow_x": null,
            "overflow_y": null,
            "padding": null,
            "right": null,
            "top": null,
            "visibility": null,
            "width": null
          }
        },
        "e15542931b8c48b0a83e6fcb0fd32a51": {
          "model_module": "@jupyter-widgets/base",
          "model_name": "LayoutModel",
          "model_module_version": "1.2.0",
          "state": {
            "_model_module": "@jupyter-widgets/base",
            "_model_module_version": "1.2.0",
            "_model_name": "LayoutModel",
            "_view_count": null,
            "_view_module": "@jupyter-widgets/base",
            "_view_module_version": "1.2.0",
            "_view_name": "LayoutView",
            "align_content": null,
            "align_items": null,
            "align_self": null,
            "border": null,
            "bottom": null,
            "display": null,
            "flex": null,
            "flex_flow": null,
            "grid_area": null,
            "grid_auto_columns": null,
            "grid_auto_flow": null,
            "grid_auto_rows": null,
            "grid_column": null,
            "grid_gap": null,
            "grid_row": null,
            "grid_template_areas": null,
            "grid_template_columns": null,
            "grid_template_rows": null,
            "height": null,
            "justify_content": null,
            "justify_items": null,
            "left": null,
            "margin": null,
            "max_height": null,
            "max_width": null,
            "min_height": null,
            "min_width": null,
            "object_fit": null,
            "object_position": null,
            "order": null,
            "overflow": null,
            "overflow_x": null,
            "overflow_y": null,
            "padding": null,
            "right": null,
            "top": null,
            "visibility": null,
            "width": null
          }
        },
        "f05b2aaf99ee4d2cb670d122cdd3bf03": {
          "model_module": "@jupyter-widgets/controls",
          "model_name": "DescriptionStyleModel",
          "model_module_version": "1.5.0",
          "state": {
            "_model_module": "@jupyter-widgets/controls",
            "_model_module_version": "1.5.0",
            "_model_name": "DescriptionStyleModel",
            "_view_count": null,
            "_view_module": "@jupyter-widgets/base",
            "_view_module_version": "1.2.0",
            "_view_name": "StyleView",
            "description_width": ""
          }
        },
        "787e7c3f663d4369a035e1a255cf5995": {
          "model_module": "@jupyter-widgets/base",
          "model_name": "LayoutModel",
          "model_module_version": "1.2.0",
          "state": {
            "_model_module": "@jupyter-widgets/base",
            "_model_module_version": "1.2.0",
            "_model_name": "LayoutModel",
            "_view_count": null,
            "_view_module": "@jupyter-widgets/base",
            "_view_module_version": "1.2.0",
            "_view_name": "LayoutView",
            "align_content": null,
            "align_items": null,
            "align_self": null,
            "border": null,
            "bottom": null,
            "display": null,
            "flex": null,
            "flex_flow": null,
            "grid_area": null,
            "grid_auto_columns": null,
            "grid_auto_flow": null,
            "grid_auto_rows": null,
            "grid_column": null,
            "grid_gap": null,
            "grid_row": null,
            "grid_template_areas": null,
            "grid_template_columns": null,
            "grid_template_rows": null,
            "height": null,
            "justify_content": null,
            "justify_items": null,
            "left": null,
            "margin": null,
            "max_height": null,
            "max_width": null,
            "min_height": null,
            "min_width": null,
            "object_fit": null,
            "object_position": null,
            "order": null,
            "overflow": null,
            "overflow_x": null,
            "overflow_y": null,
            "padding": null,
            "right": null,
            "top": null,
            "visibility": null,
            "width": null
          }
        },
        "eb2e90ee96914f57b960bcdb52da6df8": {
          "model_module": "@jupyter-widgets/controls",
          "model_name": "ProgressStyleModel",
          "model_module_version": "1.5.0",
          "state": {
            "_model_module": "@jupyter-widgets/controls",
            "_model_module_version": "1.5.0",
            "_model_name": "ProgressStyleModel",
            "_view_count": null,
            "_view_module": "@jupyter-widgets/base",
            "_view_module_version": "1.2.0",
            "_view_name": "StyleView",
            "bar_color": null,
            "description_width": ""
          }
        },
        "50e8edcc0b7b45208c055d9800248821": {
          "model_module": "@jupyter-widgets/base",
          "model_name": "LayoutModel",
          "model_module_version": "1.2.0",
          "state": {
            "_model_module": "@jupyter-widgets/base",
            "_model_module_version": "1.2.0",
            "_model_name": "LayoutModel",
            "_view_count": null,
            "_view_module": "@jupyter-widgets/base",
            "_view_module_version": "1.2.0",
            "_view_name": "LayoutView",
            "align_content": null,
            "align_items": null,
            "align_self": null,
            "border": null,
            "bottom": null,
            "display": null,
            "flex": null,
            "flex_flow": null,
            "grid_area": null,
            "grid_auto_columns": null,
            "grid_auto_flow": null,
            "grid_auto_rows": null,
            "grid_column": null,
            "grid_gap": null,
            "grid_row": null,
            "grid_template_areas": null,
            "grid_template_columns": null,
            "grid_template_rows": null,
            "height": null,
            "justify_content": null,
            "justify_items": null,
            "left": null,
            "margin": null,
            "max_height": null,
            "max_width": null,
            "min_height": null,
            "min_width": null,
            "object_fit": null,
            "object_position": null,
            "order": null,
            "overflow": null,
            "overflow_x": null,
            "overflow_y": null,
            "padding": null,
            "right": null,
            "top": null,
            "visibility": null,
            "width": null
          }
        },
        "86435cb6f5cf4bc0935ca8c7150da182": {
          "model_module": "@jupyter-widgets/controls",
          "model_name": "DescriptionStyleModel",
          "model_module_version": "1.5.0",
          "state": {
            "_model_module": "@jupyter-widgets/controls",
            "_model_module_version": "1.5.0",
            "_model_name": "DescriptionStyleModel",
            "_view_count": null,
            "_view_module": "@jupyter-widgets/base",
            "_view_module_version": "1.2.0",
            "_view_name": "StyleView",
            "description_width": ""
          }
        }
      }
    },
    "accelerator": "GPU"
  },
  "cells": [
    {
      "cell_type": "markdown",
      "metadata": {
        "id": "view-in-github",
        "colab_type": "text"
      },
      "source": [
        "<a href=\"https://colab.research.google.com/github/avisinghal6/Node-Classification-using-Graph-Convolutional-Neural-network/blob/main/MLG_Q1.ipynb\" target=\"_parent\"><img src=\"https://colab.research.google.com/assets/colab-badge.svg\" alt=\"Open In Colab\"/></a>"
      ]
    },
    {
      "cell_type": "code",
      "execution_count": null,
      "metadata": {
        "colab": {
          "base_uri": "https://localhost:8080/"
        },
        "id": "B2DsvvhhVeH8",
        "outputId": "8bfd2147-31e8-4a51-ab8b-8858d5558850"
      },
      "outputs": [
        {
          "output_type": "stream",
          "name": "stdout",
          "text": [
            "Looking in indexes: https://pypi.org/simple, https://us-python.pkg.dev/colab-wheels/public/simple/\n",
            "Looking in links: https://pytorch-geometric.com/whl/torch-2.0.0+cu118.html\n",
            "Collecting torch-scatter\n",
            "  Downloading https://data.pyg.org/whl/torch-2.0.0%2Bcu118/torch_scatter-2.1.1%2Bpt20cu118-cp39-cp39-linux_x86_64.whl (10.2 MB)\n",
            "\u001b[2K     \u001b[90m━━━━━━━━━━━━━━━━━━━━━━━━━━━━━━━━━━━━━━━━\u001b[0m \u001b[32m10.2/10.2 MB\u001b[0m \u001b[31m10.1 MB/s\u001b[0m eta \u001b[36m0:00:00\u001b[0m\n",
            "\u001b[?25hInstalling collected packages: torch-scatter\n",
            "Successfully installed torch-scatter-2.1.1+pt20cu118\n",
            "Looking in indexes: https://pypi.org/simple, https://us-python.pkg.dev/colab-wheels/public/simple/\n",
            "Looking in links: https://pytorch-geometric.com/whl/torch-2.0.0+cu118.html\n",
            "Collecting torch-sparse\n",
            "  Downloading https://data.pyg.org/whl/torch-2.0.0%2Bcu118/torch_sparse-0.6.17%2Bpt20cu118-cp39-cp39-linux_x86_64.whl (4.8 MB)\n",
            "\u001b[2K     \u001b[90m━━━━━━━━━━━━━━━━━━━━━━━━━━━━━━━━━━━━━━━━\u001b[0m \u001b[32m4.8/4.8 MB\u001b[0m \u001b[31m6.8 MB/s\u001b[0m eta \u001b[36m0:00:00\u001b[0m\n",
            "\u001b[?25hRequirement already satisfied: scipy in /usr/local/lib/python3.9/dist-packages (from torch-sparse) (1.10.1)\n",
            "Requirement already satisfied: numpy<1.27.0,>=1.19.5 in /usr/local/lib/python3.9/dist-packages (from scipy->torch-sparse) (1.22.4)\n",
            "Installing collected packages: torch-sparse\n",
            "Successfully installed torch-sparse-0.6.17+pt20cu118\n",
            "Looking in indexes: https://pypi.org/simple, https://us-python.pkg.dev/colab-wheels/public/simple/\n",
            "Looking in links: https://pytorch-geometric.com/whl/torch-2.0.0+cu118.html\n",
            "Collecting torch-cluster\n",
            "  Downloading https://data.pyg.org/whl/torch-2.0.0%2Bcu118/torch_cluster-1.6.1%2Bpt20cu118-cp39-cp39-linux_x86_64.whl (3.3 MB)\n",
            "\u001b[2K     \u001b[90m━━━━━━━━━━━━━━━━━━━━━━━━━━━━━━━━━━━━━━━━\u001b[0m \u001b[32m3.3/3.3 MB\u001b[0m \u001b[31m5.7 MB/s\u001b[0m eta \u001b[36m0:00:00\u001b[0m\n",
            "\u001b[?25hRequirement already satisfied: scipy in /usr/local/lib/python3.9/dist-packages (from torch-cluster) (1.10.1)\n",
            "Requirement already satisfied: numpy<1.27.0,>=1.19.5 in /usr/local/lib/python3.9/dist-packages (from scipy->torch-cluster) (1.22.4)\n",
            "Installing collected packages: torch-cluster\n",
            "Successfully installed torch-cluster-1.6.1+pt20cu118\n",
            "Looking in indexes: https://pypi.org/simple, https://us-python.pkg.dev/colab-wheels/public/simple/\n",
            "Looking in links: https://pytorch-geometric.com/whl/torch-2.0.0+cu118.html\n",
            "Collecting torch-spline-conv\n",
            "  Downloading https://data.pyg.org/whl/torch-2.0.0%2Bcu118/torch_spline_conv-1.2.2%2Bpt20cu118-cp39-cp39-linux_x86_64.whl (885 kB)\n",
            "\u001b[2K     \u001b[90m━━━━━━━━━━━━━━━━━━━━━━━━━━━━━━━━━━━━━━━\u001b[0m \u001b[32m885.2/885.2 kB\u001b[0m \u001b[31m4.2 MB/s\u001b[0m eta \u001b[36m0:00:00\u001b[0m\n",
            "\u001b[?25hInstalling collected packages: torch-spline-conv\n",
            "Successfully installed torch-spline-conv-1.2.2+pt20cu118\n",
            "Looking in indexes: https://pypi.org/simple, https://us-python.pkg.dev/colab-wheels/public/simple/\n",
            "Collecting torch-geometric\n",
            "  Downloading torch_geometric-2.3.0.tar.gz (616 kB)\n",
            "\u001b[2K     \u001b[90m━━━━━━━━━━━━━━━━━━━━━━━━━━━━━━━━━━━━━━\u001b[0m \u001b[32m616.2/616.2 kB\u001b[0m \u001b[31m11.1 MB/s\u001b[0m eta \u001b[36m0:00:00\u001b[0m\n",
            "\u001b[?25h  Installing build dependencies ... \u001b[?25l\u001b[?25hdone\n",
            "  Getting requirements to build wheel ... \u001b[?25l\u001b[?25hdone\n",
            "  Preparing metadata (pyproject.toml) ... \u001b[?25l\u001b[?25hdone\n",
            "Requirement already satisfied: scikit-learn in /usr/local/lib/python3.9/dist-packages (from torch-geometric) (1.2.2)\n",
            "Requirement already satisfied: tqdm in /usr/local/lib/python3.9/dist-packages (from torch-geometric) (4.65.0)\n",
            "Requirement already satisfied: numpy in /usr/local/lib/python3.9/dist-packages (from torch-geometric) (1.22.4)\n",
            "Requirement already satisfied: requests in /usr/local/lib/python3.9/dist-packages (from torch-geometric) (2.27.1)\n",
            "Requirement already satisfied: psutil>=5.8.0 in /usr/local/lib/python3.9/dist-packages (from torch-geometric) (5.9.5)\n",
            "Requirement already satisfied: jinja2 in /usr/local/lib/python3.9/dist-packages (from torch-geometric) (3.1.2)\n",
            "Requirement already satisfied: scipy in /usr/local/lib/python3.9/dist-packages (from torch-geometric) (1.10.1)\n",
            "Requirement already satisfied: pyparsing in /usr/local/lib/python3.9/dist-packages (from torch-geometric) (3.0.9)\n",
            "Requirement already satisfied: MarkupSafe>=2.0 in /usr/local/lib/python3.9/dist-packages (from jinja2->torch-geometric) (2.1.2)\n",
            "Requirement already satisfied: charset-normalizer~=2.0.0 in /usr/local/lib/python3.9/dist-packages (from requests->torch-geometric) (2.0.12)\n",
            "Requirement already satisfied: certifi>=2017.4.17 in /usr/local/lib/python3.9/dist-packages (from requests->torch-geometric) (2022.12.7)\n",
            "Requirement already satisfied: idna<4,>=2.5 in /usr/local/lib/python3.9/dist-packages (from requests->torch-geometric) (3.4)\n",
            "Requirement already satisfied: urllib3<1.27,>=1.21.1 in /usr/local/lib/python3.9/dist-packages (from requests->torch-geometric) (1.26.15)\n",
            "Requirement already satisfied: joblib>=1.1.1 in /usr/local/lib/python3.9/dist-packages (from scikit-learn->torch-geometric) (1.2.0)\n",
            "Requirement already satisfied: threadpoolctl>=2.0.0 in /usr/local/lib/python3.9/dist-packages (from scikit-learn->torch-geometric) (3.1.0)\n",
            "Building wheels for collected packages: torch-geometric\n",
            "  Building wheel for torch-geometric (pyproject.toml) ... \u001b[?25l\u001b[?25hdone\n",
            "  Created wheel for torch-geometric: filename=torch_geometric-2.3.0-py3-none-any.whl size=909897 sha256=edbacbe601597e9038f804b6c1faa5dee050aea8a60089b4e710517d8b65beb8\n",
            "  Stored in directory: /root/.cache/pip/wheels/cd/7d/6b/17150450b80b4a3656a84330e22709ccd8dc0f8f4773ba4133\n",
            "Successfully built torch-geometric\n",
            "Installing collected packages: torch-geometric\n",
            "Successfully installed torch-geometric-2.3.0\n"
          ]
        }
      ],
      "source": [
        "import torch\n",
        "\n",
        "def format_pytorch_version(version):\n",
        "  return version.split('+')[0]\n",
        "\n",
        "TORCH_version = torch.__version__\n",
        "TORCH = format_pytorch_version(TORCH_version)\n",
        "\n",
        "def format_cuda_version(version):\n",
        "  return 'cu' + version.replace('.', '')\n",
        "\n",
        "CUDA_version = torch.version.cuda\n",
        "CUDA = format_cuda_version(CUDA_version)\n",
        "\n",
        "!pip install torch-scatter     -f https://pytorch-geometric.com/whl/torch-{TORCH}+{CUDA}.html\n",
        "!pip install torch-sparse      -f https://pytorch-geometric.com/whl/torch-{TORCH}+{CUDA}.html\n",
        "!pip install torch-cluster     -f https://pytorch-geometric.com/whl/torch-{TORCH}+{CUDA}.html\n",
        "!pip install torch-spline-conv -f https://pytorch-geometric.com/whl/torch-{TORCH}+{CUDA}.html\n",
        "!pip install torch-geometric "
      ]
    },
    {
      "cell_type": "code",
      "source": [
        "from torch_geometric.datasets import Planetoid\n",
        "from torch_geometric.transforms import NormalizeFeatures\n",
        "\n",
        "dataset = Planetoid(root='data/Planetoid', name='Cora', transform=NormalizeFeatures())"
      ],
      "metadata": {
        "id": "bDBqb0B_ViyG",
        "colab": {
          "base_uri": "https://localhost:8080/"
        },
        "outputId": "e6415ccd-178b-4928-f60a-4db00cb7be9f"
      },
      "execution_count": null,
      "outputs": [
        {
          "output_type": "stream",
          "name": "stderr",
          "text": [
            "Downloading https://github.com/kimiyoung/planetoid/raw/master/data/ind.cora.x\n",
            "Downloading https://github.com/kimiyoung/planetoid/raw/master/data/ind.cora.tx\n",
            "Downloading https://github.com/kimiyoung/planetoid/raw/master/data/ind.cora.allx\n",
            "Downloading https://github.com/kimiyoung/planetoid/raw/master/data/ind.cora.y\n",
            "Downloading https://github.com/kimiyoung/planetoid/raw/master/data/ind.cora.ty\n",
            "Downloading https://github.com/kimiyoung/planetoid/raw/master/data/ind.cora.ally\n",
            "Downloading https://github.com/kimiyoung/planetoid/raw/master/data/ind.cora.graph\n",
            "Downloading https://github.com/kimiyoung/planetoid/raw/master/data/ind.cora.test.index\n",
            "Processing...\n",
            "Done!\n"
          ]
        }
      ]
    },
    {
      "cell_type": "code",
      "source": [
        "import torch\n",
        "import torch.nn as nn\n",
        "import torch.nn.functional as F"
      ],
      "metadata": {
        "id": "ONG_kUdqXvNg"
      },
      "execution_count": null,
      "outputs": []
    },
    {
      "cell_type": "code",
      "source": [
        "\n",
        "print(f'Number of graphs: {len(dataset)}')\n",
        "print(f'Number of features: {dataset.num_features}')\n",
        "print(f'Number of classes: {dataset.num_classes}')\n",
        "print(50*'=')\n",
        "data = dataset[0]  \n",
        "\n",
        "print(data)\n",
        "print(f'Number of nodes: {data.num_nodes}')\n",
        "print(f'Number of edges: {data.num_edges}')\n",
        "print(f'Number of training nodes: {data.train_mask.sum()}')\n",
        "print(f'Training node label rate: {int(data.train_mask.sum()) / data.num_nodes:.2f}')\n",
        "print(f'Is undirected: {data.is_undirected()}')"
      ],
      "metadata": {
        "colab": {
          "base_uri": "https://localhost:8080/"
        },
        "id": "xnBrHGQXV5-P",
        "outputId": "ab25a6e7-35fe-48ae-b9d2-319ffb385768"
      },
      "execution_count": null,
      "outputs": [
        {
          "output_type": "stream",
          "name": "stdout",
          "text": [
            "Number of graphs: 1\n",
            "Number of features: 1433\n",
            "Number of classes: 7\n",
            "==================================================\n",
            "Data(x=[2708, 1433], edge_index=[2, 10556], y=[2708], train_mask=[2708], val_mask=[2708], test_mask=[2708])\n",
            "Number of nodes: 2708\n",
            "Number of edges: 10556\n",
            "Number of training nodes: 140\n",
            "Training node label rate: 0.05\n",
            "Is undirected: True\n"
          ]
        }
      ]
    },
    {
      "cell_type": "code",
      "source": [
        "class NN(torch.nn.Module):\n",
        "    def __init__(self, hidden_channels,num_features):\n",
        "        super(NN, self).__init__()\n",
        "        torch.manual_seed(42)\n",
        "\n",
        "        # Initialize the layers\n",
        "        self.fc1 = nn.Linear(num_features, hidden_channels)\n",
        "        self.fc2 = nn.Linear(hidden_channels, hidden_channels)\n",
        "        self.out = nn.Linear(hidden_channels, dataset.num_classes)\n",
        "\n",
        "    def forward(self, x):\n",
        "        x = self.fc1(x)\n",
        "        x = x.relu()\n",
        "        x = F.dropout(x, p=0.5, training=self.training)\n",
        "\n",
        "        x = self.fc2(x)\n",
        "        x = x.relu()\n",
        "        x = F.dropout(x, p=0.5, training=self.training)\n",
        "\n",
        "        x = F.softmax(self.out(x), dim=1)\n",
        "        return x"
      ],
      "metadata": {
        "id": "YXYh9H-lXgJ8"
      },
      "execution_count": null,
      "outputs": []
    },
    {
      "cell_type": "code",
      "source": [
        "\n",
        "model = NN(hidden_channels=64,num_features=data.num_features)\n",
        "\n",
        "\n",
        "device = torch.device(\"cuda:0\" if torch.cuda.is_available() else \"cpu\")\n",
        "model = model.to(device)\n",
        "data = data.to(device)\n",
        "\n",
        "\n",
        "learning_rate = 0.001\n",
        "decay = 5e-4\n",
        "optimizer = torch.optim.Adam(model.parameters(), \n",
        "                             lr=learning_rate, \n",
        "                             weight_decay=decay)\n",
        "\n",
        "criterion = torch.nn.CrossEntropyLoss()\n",
        "\n",
        "def train():\n",
        "      model.train()\n",
        "      optimizer.zero_grad() \n",
        "      out = model(data.x)  \n",
        "      # Only use nodes with labels available for loss calculation --> mask\n",
        "      loss = criterion(out[data.train_mask], data.y[data.train_mask])  \n",
        "      loss.backward() \n",
        "      optimizer.step()\n",
        "      return loss\n",
        "\n",
        "def test():\n",
        "      model.eval()\n",
        "      out = model(data.x)\n",
        "      # Use the class with highest probability.\n",
        "      pred = out.argmax(dim=1)  \n",
        "      # Check against ground-truth labels.\n",
        "      test_correct = pred[data.test_mask] == data.y[data.test_mask]  \n",
        "      # Derive ratio of correct predictions.\n",
        "      test_acc = int(test_correct.sum()) / int(data.test_mask.sum())  \n",
        "      return test_acc\n",
        "\n",
        "losses = []\n",
        "for epoch in range(0, 5001):\n",
        "    loss = train()\n",
        "    losses.append(loss)\n",
        "    acc=test()\n",
        "    if epoch % 100 == 0:\n",
        "      print(f'Epoch: {epoch:03d}, Loss: {loss:.4f},Accuracy: {acc:.4f}')"
      ],
      "metadata": {
        "colab": {
          "base_uri": "https://localhost:8080/"
        },
        "id": "W6rwWUWHXuJQ",
        "outputId": "29c29a3f-d1a7-4de4-fb7a-21de6883899c"
      },
      "execution_count": null,
      "outputs": [
        {
          "output_type": "stream",
          "name": "stdout",
          "text": [
            "Epoch: 000, Loss: 1.9464,Accuracy: 0.0640\n",
            "Epoch: 100, Loss: 1.9445,Accuracy: 0.0660\n",
            "Epoch: 200, Loss: 1.7952,Accuracy: 0.1930\n",
            "Epoch: 300, Loss: 1.6001,Accuracy: 0.3200\n",
            "Epoch: 400, Loss: 1.3975,Accuracy: 0.3660\n",
            "Epoch: 500, Loss: 1.2928,Accuracy: 0.4970\n",
            "Epoch: 600, Loss: 1.2421,Accuracy: 0.5050\n",
            "Epoch: 700, Loss: 1.2174,Accuracy: 0.5120\n",
            "Epoch: 800, Loss: 1.2203,Accuracy: 0.5270\n",
            "Epoch: 900, Loss: 1.2283,Accuracy: 0.5220\n",
            "Epoch: 1000, Loss: 1.2107,Accuracy: 0.5240\n",
            "Epoch: 1100, Loss: 1.2042,Accuracy: 0.5230\n",
            "Epoch: 1200, Loss: 1.2027,Accuracy: 0.5180\n",
            "Epoch: 1300, Loss: 1.2127,Accuracy: 0.5130\n",
            "Epoch: 1400, Loss: 1.2085,Accuracy: 0.5120\n",
            "Epoch: 1500, Loss: 1.1939,Accuracy: 0.5260\n",
            "Epoch: 1600, Loss: 1.2191,Accuracy: 0.5170\n",
            "Epoch: 1700, Loss: 1.2264,Accuracy: 0.5130\n",
            "Epoch: 1800, Loss: 1.2020,Accuracy: 0.5280\n",
            "Epoch: 1900, Loss: 1.2045,Accuracy: 0.5190\n",
            "Epoch: 2000, Loss: 1.1980,Accuracy: 0.5160\n",
            "Epoch: 2100, Loss: 1.2026,Accuracy: 0.5120\n",
            "Epoch: 2200, Loss: 1.2101,Accuracy: 0.5230\n",
            "Epoch: 2300, Loss: 1.2030,Accuracy: 0.5190\n",
            "Epoch: 2400, Loss: 1.2033,Accuracy: 0.5170\n",
            "Epoch: 2500, Loss: 1.2093,Accuracy: 0.5160\n",
            "Epoch: 2600, Loss: 1.2022,Accuracy: 0.5140\n",
            "Epoch: 2700, Loss: 1.1999,Accuracy: 0.5200\n",
            "Epoch: 2800, Loss: 1.1969,Accuracy: 0.5150\n",
            "Epoch: 2900, Loss: 1.2081,Accuracy: 0.5160\n",
            "Epoch: 3000, Loss: 1.1954,Accuracy: 0.5220\n",
            "Epoch: 3100, Loss: 1.2040,Accuracy: 0.5140\n",
            "Epoch: 3200, Loss: 1.1885,Accuracy: 0.5200\n",
            "Epoch: 3300, Loss: 1.2045,Accuracy: 0.5160\n",
            "Epoch: 3400, Loss: 1.2001,Accuracy: 0.5180\n",
            "Epoch: 3500, Loss: 1.1941,Accuracy: 0.5140\n",
            "Epoch: 3600, Loss: 1.2081,Accuracy: 0.5260\n",
            "Epoch: 3700, Loss: 1.2021,Accuracy: 0.5240\n",
            "Epoch: 3800, Loss: 1.2033,Accuracy: 0.5180\n",
            "Epoch: 3900, Loss: 1.2010,Accuracy: 0.5240\n",
            "Epoch: 4000, Loss: 1.1997,Accuracy: 0.5170\n",
            "Epoch: 4100, Loss: 1.1931,Accuracy: 0.5190\n",
            "Epoch: 4200, Loss: 1.1930,Accuracy: 0.5270\n",
            "Epoch: 4300, Loss: 1.1939,Accuracy: 0.5220\n",
            "Epoch: 4400, Loss: 1.2050,Accuracy: 0.5200\n",
            "Epoch: 4500, Loss: 1.1938,Accuracy: 0.5180\n",
            "Epoch: 4600, Loss: 1.2101,Accuracy: 0.5180\n",
            "Epoch: 4700, Loss: 1.2022,Accuracy: 0.5290\n",
            "Epoch: 4800, Loss: 1.2056,Accuracy: 0.5150\n",
            "Epoch: 4900, Loss: 1.1905,Accuracy: 0.5140\n",
            "Epoch: 5000, Loss: 1.1954,Accuracy: 0.5170\n"
          ]
        }
      ]
    },
    {
      "cell_type": "markdown",
      "source": [
        "GCN with features"
      ],
      "metadata": {
        "id": "WL1nmT-sY2xu"
      }
    },
    {
      "cell_type": "code",
      "source": [
        "import torch\n",
        "from torch.nn import Linear\n",
        "import torch.nn.functional as F\n",
        "from torch_geometric.nn import GCNConv #GATConv\n",
        "\n",
        "class GCN(torch.nn.Module):\n",
        "    def __init__(self, hidden_channels,num_features):\n",
        "        super(GCN, self).__init__()\n",
        "        torch.manual_seed(42)\n",
        "\n",
        "        # Initialize the layers\n",
        "        self.conv1 = GCNConv(num_features, hidden_channels)\n",
        "        self.conv2 = GCNConv(hidden_channels, hidden_channels)\n",
        "        self.out = Linear(hidden_channels, dataset.num_classes)\n",
        "\n",
        "    def forward(self, x, edge_index):\n",
        "        # First Message Passing Layer (Transformation)\n",
        "        x = self.conv1(x, edge_index)\n",
        "        x = x.relu()\n",
        "        x = F.dropout(x, p=0.5, training=self.training)\n",
        "\n",
        "        # Second Message Passing Layer\n",
        "        x = self.conv2(x, edge_index)\n",
        "        x = x.relu()\n",
        "        x = F.dropout(x, p=0.5, training=self.training)\n",
        "\n",
        "        # Output layer \n",
        "        x = F.softmax(self.out(x), dim=1)\n",
        "        return x\n"
      ],
      "metadata": {
        "id": "6Pml2WCJV6Ae"
      },
      "execution_count": null,
      "outputs": []
    },
    {
      "cell_type": "code",
      "source": [
        "\n",
        "model = GCN(hidden_channels=32,num_features=data.num_features)\n",
        "\n",
        "\n",
        "device = torch.device(\"cuda:0\" if torch.cuda.is_available() else \"cpu\")\n",
        "model = model.to(device)\n",
        "data = data.to(device)\n",
        "\n",
        "learning_rate = 0.01\n",
        "decay = 5e-4\n",
        "optimizer = torch.optim.Adam(model.parameters(), \n",
        "                             lr=learning_rate, \n",
        "                             weight_decay=decay)\n",
        "\n",
        "criterion = torch.nn.CrossEntropyLoss()\n",
        "\n",
        "def train():\n",
        "      model.train()\n",
        "      optimizer.zero_grad() \n",
        "\n",
        "      out = model(data.x, data.edge_index)  \n",
        "      loss = criterion(out[data.train_mask], data.y[data.train_mask])  \n",
        "      loss.backward() \n",
        "      optimizer.step()\n",
        "      return loss\n",
        "\n",
        "def test():\n",
        "      model.eval()\n",
        "      out = model(data.x, data.edge_index)\n",
        "\n",
        "      pred = out.argmax(dim=1)  \n",
        "\n",
        "      test_correct = pred[data.test_mask] == data.y[data.test_mask]  \n",
        "   \n",
        "      test_acc = int(test_correct.sum()) / int(data.test_mask.sum())  \n",
        "      return test_acc\n",
        "\n",
        "losses = []\n",
        "for epoch in range(0, 5001):\n",
        "    loss = train()\n",
        "    losses.append(loss)\n",
        "    acc=test()\n",
        "    if epoch % 100 == 0:\n",
        "      print(f'Epoch: {epoch:03d}, Loss: {loss:.4f},Accuracy: {acc:.4f}')"
      ],
      "metadata": {
        "colab": {
          "base_uri": "https://localhost:8080/"
        },
        "id": "UfvcAOuuV6C3",
        "outputId": "faa403f1-5bc0-4b1c-f361-077e1cef3dd0"
      },
      "execution_count": null,
      "outputs": [
        {
          "output_type": "stream",
          "name": "stdout",
          "text": [
            "Epoch: 000, Loss: 1.9460,Accuracy: 0.1490\n",
            "Epoch: 100, Loss: 1.7192,Accuracy: 0.3970\n",
            "Epoch: 200, Loss: 1.4347,Accuracy: 0.6350\n",
            "Epoch: 300, Loss: 1.3069,Accuracy: 0.6930\n",
            "Epoch: 400, Loss: 1.2518,Accuracy: 0.7580\n",
            "Epoch: 500, Loss: 1.2946,Accuracy: 0.7550\n",
            "Epoch: 600, Loss: 1.2637,Accuracy: 0.7690\n",
            "Epoch: 700, Loss: 1.2503,Accuracy: 0.7610\n",
            "Epoch: 800, Loss: 1.2386,Accuracy: 0.7590\n",
            "Epoch: 900, Loss: 1.2716,Accuracy: 0.7650\n",
            "Epoch: 1000, Loss: 1.2532,Accuracy: 0.7690\n",
            "Epoch: 1100, Loss: 1.2580,Accuracy: 0.7650\n",
            "Epoch: 1200, Loss: 1.2553,Accuracy: 0.7780\n",
            "Epoch: 1300, Loss: 1.2620,Accuracy: 0.7640\n",
            "Epoch: 1400, Loss: 1.2506,Accuracy: 0.7850\n",
            "Epoch: 1500, Loss: 1.2389,Accuracy: 0.7520\n",
            "Epoch: 1600, Loss: 1.2598,Accuracy: 0.7730\n",
            "Epoch: 1700, Loss: 1.2521,Accuracy: 0.7540\n",
            "Epoch: 1800, Loss: 1.2574,Accuracy: 0.7570\n",
            "Epoch: 1900, Loss: 1.2466,Accuracy: 0.7620\n",
            "Epoch: 2000, Loss: 1.2634,Accuracy: 0.7500\n",
            "Epoch: 2100, Loss: 1.2534,Accuracy: 0.7460\n",
            "Epoch: 2200, Loss: 1.2490,Accuracy: 0.7620\n",
            "Epoch: 2300, Loss: 1.2549,Accuracy: 0.7800\n",
            "Epoch: 2400, Loss: 1.2596,Accuracy: 0.7550\n",
            "Epoch: 2500, Loss: 1.2422,Accuracy: 0.7760\n",
            "Epoch: 2600, Loss: 1.2482,Accuracy: 0.7490\n",
            "Epoch: 2700, Loss: 1.2214,Accuracy: 0.7790\n",
            "Epoch: 2800, Loss: 1.2398,Accuracy: 0.7650\n",
            "Epoch: 2900, Loss: 1.2495,Accuracy: 0.7730\n",
            "Epoch: 3000, Loss: 1.2361,Accuracy: 0.7460\n",
            "Epoch: 3100, Loss: 1.2501,Accuracy: 0.7650\n",
            "Epoch: 3200, Loss: 1.2489,Accuracy: 0.7600\n",
            "Epoch: 3300, Loss: 1.2430,Accuracy: 0.7690\n",
            "Epoch: 3400, Loss: 1.2428,Accuracy: 0.7680\n",
            "Epoch: 3500, Loss: 1.2428,Accuracy: 0.7550\n",
            "Epoch: 3600, Loss: 1.2290,Accuracy: 0.7530\n",
            "Epoch: 3700, Loss: 1.2417,Accuracy: 0.7670\n",
            "Epoch: 3800, Loss: 1.2255,Accuracy: 0.7650\n",
            "Epoch: 3900, Loss: 1.2319,Accuracy: 0.7610\n",
            "Epoch: 4000, Loss: 1.2417,Accuracy: 0.7830\n",
            "Epoch: 4100, Loss: 1.2479,Accuracy: 0.7540\n",
            "Epoch: 4200, Loss: 1.2356,Accuracy: 0.7620\n",
            "Epoch: 4300, Loss: 1.2574,Accuracy: 0.7830\n",
            "Epoch: 4400, Loss: 1.2362,Accuracy: 0.7700\n",
            "Epoch: 4500, Loss: 1.2408,Accuracy: 0.7790\n",
            "Epoch: 4600, Loss: 1.2426,Accuracy: 0.7680\n",
            "Epoch: 4700, Loss: 1.2389,Accuracy: 0.7690\n",
            "Epoch: 4800, Loss: 1.2331,Accuracy: 0.7680\n",
            "Epoch: 4900, Loss: 1.2397,Accuracy: 0.7730\n",
            "Epoch: 5000, Loss: 1.2224,Accuracy: 0.7770\n"
          ]
        }
      ]
    },
    {
      "cell_type": "markdown",
      "source": [
        "GCN with Identity\n"
      ],
      "metadata": {
        "id": "PXYJmySIY8XC"
      }
    },
    {
      "cell_type": "code",
      "source": [
        "#CREATING A NXN MATRIX\n",
        "import numpy as np\n",
        "d=torch.tensor(np.identity(data.num_nodes, dtype = float))"
      ],
      "metadata": {
        "id": "8LusVgzpV6Fc"
      },
      "execution_count": null,
      "outputs": []
    },
    {
      "cell_type": "code",
      "source": [
        "\n",
        "model = GCN(hidden_channels=32,num_features=data.num_nodes)\n",
        "\n",
        "\n",
        "device = torch.device(\"cuda:0\" if torch.cuda.is_available() else \"cpu\")\n",
        "model = model.to(device)\n",
        "d = d.to(device)\n",
        "\n",
        "\n",
        "learning_rate = 0.01\n",
        "decay = 5e-4\n",
        "optimizer = torch.optim.Adam(model.parameters(), \n",
        "                             lr=learning_rate, \n",
        "                             weight_decay=decay)\n",
        "\n",
        "criterion = torch.nn.CrossEntropyLoss()\n",
        "\n",
        "def train():\n",
        "      model.train()\n",
        "      optimizer.zero_grad() \n",
        "     \n",
        "      out = model(d.float(), data.edge_index)  \n",
        "     \n",
        "      loss = criterion(out[data.train_mask], data.y[data.train_mask])  \n",
        "      loss.backward() \n",
        "      optimizer.step()\n",
        "      return loss\n",
        "\n",
        "def test():\n",
        "      model.eval()\n",
        "      out = model(d.float(), data.edge_index)\n",
        "   \n",
        "      pred = out.argmax(dim=1)  \n",
        "     \n",
        "      test_correct = pred[data.test_mask] == data.y[data.test_mask]  \n",
        "     \n",
        "      test_acc = int(test_correct.sum()) / int(data.test_mask.sum())  \n",
        "      return test_acc\n",
        "\n",
        "losses = []\n",
        "for epoch in range(0, 5001):\n",
        "    loss = train()\n",
        "    losses.append(loss)\n",
        "    acc=test()\n",
        "    if epoch % 100 == 0:\n",
        "      print(f'Epoch: {epoch:03d}, Loss: {loss:.4f},Accuracy: {acc:.4f}')"
      ],
      "metadata": {
        "colab": {
          "base_uri": "https://localhost:8080/"
        },
        "id": "ESqwXwgHV7_w",
        "outputId": "6490e743-b1e1-4ecc-a6ed-706102825293"
      },
      "execution_count": null,
      "outputs": [
        {
          "output_type": "stream",
          "name": "stdout",
          "text": [
            "Epoch: 000, Loss: 1.9460,Accuracy: 0.1030\n",
            "Epoch: 100, Loss: 1.2622,Accuracy: 0.4880\n",
            "Epoch: 200, Loss: 1.2253,Accuracy: 0.5930\n",
            "Epoch: 300, Loss: 1.2274,Accuracy: 0.6540\n",
            "Epoch: 400, Loss: 1.2233,Accuracy: 0.6280\n",
            "Epoch: 500, Loss: 1.2023,Accuracy: 0.6310\n",
            "Epoch: 600, Loss: 1.2065,Accuracy: 0.6320\n",
            "Epoch: 700, Loss: 1.2134,Accuracy: 0.6400\n",
            "Epoch: 800, Loss: 1.1934,Accuracy: 0.5930\n",
            "Epoch: 900, Loss: 1.2145,Accuracy: 0.6030\n",
            "Epoch: 1000, Loss: 1.2007,Accuracy: 0.5390\n",
            "Epoch: 1100, Loss: 1.2093,Accuracy: 0.5930\n",
            "Epoch: 1200, Loss: 1.2073,Accuracy: 0.6000\n",
            "Epoch: 1300, Loss: 1.2098,Accuracy: 0.5910\n",
            "Epoch: 1400, Loss: 1.2237,Accuracy: 0.6500\n",
            "Epoch: 1500, Loss: 1.2012,Accuracy: 0.6070\n",
            "Epoch: 1600, Loss: 1.1985,Accuracy: 0.5910\n",
            "Epoch: 1700, Loss: 1.2109,Accuracy: 0.6120\n",
            "Epoch: 1800, Loss: 1.2119,Accuracy: 0.5950\n",
            "Epoch: 1900, Loss: 1.2089,Accuracy: 0.6540\n",
            "Epoch: 2000, Loss: 1.2088,Accuracy: 0.5910\n",
            "Epoch: 2100, Loss: 1.2169,Accuracy: 0.6210\n",
            "Epoch: 2200, Loss: 1.2064,Accuracy: 0.5550\n",
            "Epoch: 2300, Loss: 1.2049,Accuracy: 0.6100\n",
            "Epoch: 2400, Loss: 1.1996,Accuracy: 0.5850\n",
            "Epoch: 2500, Loss: 1.1967,Accuracy: 0.6100\n",
            "Epoch: 2600, Loss: 1.1931,Accuracy: 0.6030\n",
            "Epoch: 2700, Loss: 1.2022,Accuracy: 0.5450\n",
            "Epoch: 2800, Loss: 1.2025,Accuracy: 0.6230\n",
            "Epoch: 2900, Loss: 1.2103,Accuracy: 0.6730\n",
            "Epoch: 3000, Loss: 1.2059,Accuracy: 0.6430\n",
            "Epoch: 3100, Loss: 1.1969,Accuracy: 0.6280\n",
            "Epoch: 3200, Loss: 1.1910,Accuracy: 0.6310\n",
            "Epoch: 3300, Loss: 1.1901,Accuracy: 0.6590\n",
            "Epoch: 3400, Loss: 1.1962,Accuracy: 0.5650\n",
            "Epoch: 3500, Loss: 1.1981,Accuracy: 0.6620\n",
            "Epoch: 3600, Loss: 1.2115,Accuracy: 0.6550\n",
            "Epoch: 3700, Loss: 1.2130,Accuracy: 0.6270\n",
            "Epoch: 3800, Loss: 1.2035,Accuracy: 0.5820\n",
            "Epoch: 3900, Loss: 1.2009,Accuracy: 0.6370\n",
            "Epoch: 4000, Loss: 1.2019,Accuracy: 0.5780\n",
            "Epoch: 4100, Loss: 1.2048,Accuracy: 0.6540\n",
            "Epoch: 4200, Loss: 1.2087,Accuracy: 0.6200\n",
            "Epoch: 4300, Loss: 1.1964,Accuracy: 0.6280\n",
            "Epoch: 4400, Loss: 1.1960,Accuracy: 0.5580\n",
            "Epoch: 4500, Loss: 1.2086,Accuracy: 0.6410\n",
            "Epoch: 4600, Loss: 1.1980,Accuracy: 0.6640\n",
            "Epoch: 4700, Loss: 1.2061,Accuracy: 0.5750\n",
            "Epoch: 4800, Loss: 1.2001,Accuracy: 0.6060\n",
            "Epoch: 4900, Loss: 1.1991,Accuracy: 0.5800\n",
            "Epoch: 5000, Loss: 1.1989,Accuracy: 0.5780\n"
          ]
        }
      ]
    },
    {
      "cell_type": "markdown",
      "source": [
        "GCN with Node2Vec"
      ],
      "metadata": {
        "id": "GIVHjRC1ZEkA"
      }
    },
    {
      "cell_type": "code",
      "source": [
        "!pip install node2vec --quiet"
      ],
      "metadata": {
        "colab": {
          "base_uri": "https://localhost:8080/"
        },
        "id": "b7h3NI-6uSAu",
        "outputId": "b2716dea-39ed-48d9-a9c9-7fd7a9a61c8c"
      },
      "execution_count": null,
      "outputs": [
        {
          "output_type": "stream",
          "name": "stdout",
          "text": [
            "\u001b[?25l     \u001b[90m━━━━━━━━━━━━━━━━━━━━━━━━━━━━━━━━━━━━━━━━\u001b[0m \u001b[32m0.0/2.0 MB\u001b[0m \u001b[31m?\u001b[0m eta \u001b[36m-:--:--\u001b[0m\r\u001b[2K     \u001b[90m━━━━━━━━━━━━━━━━━━━━━━━━━━━━━━━━━━━━━━━━\u001b[0m \u001b[32m2.0/2.0 MB\u001b[0m \u001b[31m65.4 MB/s\u001b[0m eta \u001b[36m0:00:00\u001b[0m\n",
            "\u001b[?25h"
          ]
        }
      ]
    },
    {
      "cell_type": "code",
      "source": [
        "start=data.edge_index[0]\n",
        "end=data.edge_index[1]"
      ],
      "metadata": {
        "id": "lXUHkouX1xoa"
      },
      "execution_count": null,
      "outputs": []
    },
    {
      "cell_type": "code",
      "source": [
        "data.edge_index\n",
        "start=data.edge_index[0]\n",
        "end=data.edge_index[1]\n",
        "with open(\"out.txt\", \"wt\") as fout:\n",
        "  for i in range(len(start)):\n",
        "    fout.write(f'{start[i]} {end[i]} \\n')\n",
        "   "
      ],
      "metadata": {
        "id": "zDS5zud1zSsi"
      },
      "execution_count": null,
      "outputs": []
    },
    {
      "cell_type": "code",
      "source": [
        "import networkx as nx\n",
        "from node2vec import Node2Vec\n",
        "\n",
        "# Load the Cora dataset\n",
        "# G = nx.read_edgelist('cora.cites')\n",
        "G = nx.read_edgelist('out.txt')\n",
        "G=nx.convert_node_labels_to_integers(G,first_label=0)\n",
        "# # Create a Node2Vec object with the appropriate parameters\n",
        "node2vec = Node2Vec(G, dimensions=64, walk_length=20, num_walks=50, workers=4)\n",
        "\n",
        "# Fit the Node2Vec model to the graph\n",
        "model = node2vec.fit(window=10, min_count=1, batch_words=4)\n",
        "\n",
        "# Get the node embeddings for all nodes in the graph\n",
        "node_embeddings = model.wv.vectors\n",
        "\n",
        "# Print the shape of the node embeddings\n",
        "print('Node embeddings shape:', node_embeddings.shape)"
      ],
      "metadata": {
        "colab": {
          "base_uri": "https://localhost:8080/",
          "height": 67,
          "referenced_widgets": [
            "b4d225b8ffc64a99a8393d695f3b1ffc",
            "f939df5caa4847ccba77a867683189dd",
            "9cca4e646c054dc18c0604153c411621",
            "00bad0e576d548a69a956c087e52a4a6",
            "a3a242f94d2e4b86acd74a6f5a12211f",
            "e15542931b8c48b0a83e6fcb0fd32a51",
            "f05b2aaf99ee4d2cb670d122cdd3bf03",
            "787e7c3f663d4369a035e1a255cf5995",
            "eb2e90ee96914f57b960bcdb52da6df8",
            "50e8edcc0b7b45208c055d9800248821",
            "86435cb6f5cf4bc0935ca8c7150da182"
          ]
        },
        "id": "xLVgtBWMV6IE",
        "outputId": "0255973f-f804-4689-a69f-3e641460fac2"
      },
      "execution_count": null,
      "outputs": [
        {
          "output_type": "display_data",
          "data": {
            "text/plain": [
              "Computing transition probabilities:   0%|          | 0/2708 [00:00<?, ?it/s]"
            ],
            "application/vnd.jupyter.widget-view+json": {
              "version_major": 2,
              "version_minor": 0,
              "model_id": "b4d225b8ffc64a99a8393d695f3b1ffc"
            }
          },
          "metadata": {}
        },
        {
          "output_type": "stream",
          "name": "stdout",
          "text": [
            "Node embeddings shape: (2708, 64)\n"
          ]
        }
      ]
    },
    {
      "cell_type": "code",
      "source": [
        "node_embeddings=torch.tensor(node_embeddings)"
      ],
      "metadata": {
        "id": "WskGGdiUzlVg"
      },
      "execution_count": null,
      "outputs": []
    },
    {
      "cell_type": "code",
      "source": [
        "\n",
        "model = GCN(hidden_channels=32,num_features=64)\n",
        "\n",
        "\n",
        "device = torch.device(\"cuda:0\" if torch.cuda.is_available() else \"cpu\")\n",
        "model = model.to(device)\n",
        "node_embeddings = node_embeddings.to(device)\n",
        "\n",
        "learning_rate = 0.01\n",
        "decay = 5e-4\n",
        "optimizer = torch.optim.Adam(model.parameters(), \n",
        "                             lr=learning_rate, \n",
        "                             weight_decay=decay)\n",
        "\n",
        "criterion = torch.nn.CrossEntropyLoss()\n",
        "\n",
        "def train():\n",
        "      model.train()\n",
        "      optimizer.zero_grad() \n",
        "\n",
        "      out = model(node_embeddings, data.edge_index)  \n",
        "\n",
        "      loss = criterion(out[data.train_mask], data.y[data.train_mask])  \n",
        "      loss.backward() \n",
        "      optimizer.step()\n",
        "      return loss\n",
        "\n",
        "def test():\n",
        "      model.eval()\n",
        "      out = model(node_embeddings, data.edge_index)\n",
        "\n",
        "      pred = out.argmax(dim=1)  \n",
        "\n",
        "      test_correct = pred[data.test_mask] == data.y[data.test_mask]  \n",
        "\n",
        "      test_acc = int(test_correct.sum()) / int(data.test_mask.sum())  \n",
        "      return test_acc\n",
        "\n",
        "losses = []\n",
        "for epoch in range(0, 5001):\n",
        "    loss = train()\n",
        "    losses.append(loss)\n",
        "    acc=test()\n",
        "    if epoch % 100 == 0:\n",
        "      print(f'Epoch: {epoch:03d}, Loss: {loss:.4f},Accuracy: {acc:.4f}')"
      ],
      "metadata": {
        "colab": {
          "base_uri": "https://localhost:8080/"
        },
        "id": "Rh5OGnmOzqW2",
        "outputId": "42b8dcdb-8379-41d0-82f1-41d66308388c"
      },
      "execution_count": null,
      "outputs": [
        {
          "output_type": "stream",
          "name": "stdout",
          "text": [
            "Epoch: 000, Loss: 1.9469,Accuracy: 0.1430\n",
            "Epoch: 100, Loss: 1.5909,Accuracy: 0.2250\n",
            "Epoch: 200, Loss: 1.4421,Accuracy: 0.2900\n",
            "Epoch: 300, Loss: 1.3813,Accuracy: 0.2930\n",
            "Epoch: 400, Loss: 1.3799,Accuracy: 0.3040\n",
            "Epoch: 500, Loss: 1.3911,Accuracy: 0.3100\n",
            "Epoch: 600, Loss: 1.3371,Accuracy: 0.3160\n",
            "Epoch: 700, Loss: 1.3159,Accuracy: 0.3080\n",
            "Epoch: 800, Loss: 1.2981,Accuracy: 0.3210\n",
            "Epoch: 900, Loss: 1.3437,Accuracy: 0.3260\n",
            "Epoch: 1000, Loss: 1.2963,Accuracy: 0.3130\n",
            "Epoch: 1100, Loss: 1.3348,Accuracy: 0.3140\n",
            "Epoch: 1200, Loss: 1.3300,Accuracy: 0.3280\n",
            "Epoch: 1300, Loss: 1.3382,Accuracy: 0.3280\n",
            "Epoch: 1400, Loss: 1.3216,Accuracy: 0.3390\n",
            "Epoch: 1500, Loss: 1.3105,Accuracy: 0.3350\n",
            "Epoch: 1600, Loss: 1.2969,Accuracy: 0.3130\n",
            "Epoch: 1700, Loss: 1.3101,Accuracy: 0.3230\n",
            "Epoch: 1800, Loss: 1.3324,Accuracy: 0.3380\n",
            "Epoch: 1900, Loss: 1.3091,Accuracy: 0.3300\n",
            "Epoch: 2000, Loss: 1.2780,Accuracy: 0.3220\n",
            "Epoch: 2100, Loss: 1.3017,Accuracy: 0.3190\n",
            "Epoch: 2200, Loss: 1.2882,Accuracy: 0.3240\n",
            "Epoch: 2300, Loss: 1.3089,Accuracy: 0.3220\n",
            "Epoch: 2400, Loss: 1.2824,Accuracy: 0.3390\n",
            "Epoch: 2500, Loss: 1.2726,Accuracy: 0.3260\n",
            "Epoch: 2600, Loss: 1.3190,Accuracy: 0.3340\n",
            "Epoch: 2700, Loss: 1.2981,Accuracy: 0.3390\n",
            "Epoch: 2800, Loss: 1.2674,Accuracy: 0.3490\n",
            "Epoch: 2900, Loss: 1.2785,Accuracy: 0.3310\n",
            "Epoch: 3000, Loss: 1.2826,Accuracy: 0.3120\n",
            "Epoch: 3100, Loss: 1.2745,Accuracy: 0.3350\n",
            "Epoch: 3200, Loss: 1.3128,Accuracy: 0.3200\n",
            "Epoch: 3300, Loss: 1.2606,Accuracy: 0.3570\n",
            "Epoch: 3400, Loss: 1.2706,Accuracy: 0.3590\n",
            "Epoch: 3500, Loss: 1.2700,Accuracy: 0.3330\n",
            "Epoch: 3600, Loss: 1.2573,Accuracy: 0.3320\n",
            "Epoch: 3700, Loss: 1.2631,Accuracy: 0.3650\n",
            "Epoch: 3800, Loss: 1.2695,Accuracy: 0.3550\n",
            "Epoch: 3900, Loss: 1.2632,Accuracy: 0.3370\n",
            "Epoch: 4000, Loss: 1.2632,Accuracy: 0.3700\n",
            "Epoch: 4100, Loss: 1.2673,Accuracy: 0.3450\n",
            "Epoch: 4200, Loss: 1.2795,Accuracy: 0.3650\n",
            "Epoch: 4300, Loss: 1.2805,Accuracy: 0.3350\n",
            "Epoch: 4400, Loss: 1.3023,Accuracy: 0.3730\n",
            "Epoch: 4500, Loss: 1.2921,Accuracy: 0.3540\n",
            "Epoch: 4600, Loss: 1.2674,Accuracy: 0.3460\n",
            "Epoch: 4700, Loss: 1.2689,Accuracy: 0.3480\n",
            "Epoch: 4800, Loss: 1.2636,Accuracy: 0.3540\n",
            "Epoch: 4900, Loss: 1.2787,Accuracy: 0.3610\n",
            "Epoch: 5000, Loss: 1.2757,Accuracy: 0.3670\n"
          ]
        }
      ]
    },
    {
      "cell_type": "code",
      "source": [],
      "metadata": {
        "id": "0pw7oeHcV6KY"
      },
      "execution_count": null,
      "outputs": []
    },
    {
      "cell_type": "code",
      "source": [],
      "metadata": {
        "id": "ZJzC6BCvoW8t"
      },
      "execution_count": null,
      "outputs": []
    }
  ]
}